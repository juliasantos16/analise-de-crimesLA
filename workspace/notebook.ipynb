{
 "cells": [
  {
   "cell_type": "markdown",
   "id": "31ab2131-3049-4d8d-b9dc-d195f72af27a",
   "metadata": {},
   "source": [
    "# Análise de Crimes em Los Angeles\n",
    "\n",
    "Este projeto tem como objetivo analisar dados criminais da cidade de Los Angeles, fornecidos pelo Los Angeles Police Department (LAPD), a fim de identificar padrões de comportamento criminal. A análise busca gerar insights que possam auxiliar na tomada de decisões estratégicas, como a alocação de recursos de segurança pública e a definição de políticas de prevenção mais eficazes.\n",
    "\n",
    "Por meio deste notebook, pretendemos:\n",
    "\n",
    "Explorar a distribuição temporal e geográfica dos crimes.\n",
    "\n",
    "Identificar os tipos de crimes mais recorrentes.\n",
    "\n",
    "Detectar possíveis padrões e tendências ao longo do tempo.\n",
    "\n",
    "Apoiar iniciativas de segurança pública com base em evidências.\n",
    "\n",
    "# crimes.csv\n",
    "\n",
    "| Coluna           | Descricao                                                                                                                                                                                                                                                                                                                                                                                                                                                                                                         |\n",
    "|------------------|-------------------------------------------------------------------------------------------------------------------------------------------------------------------------------------------------------------------------------------------------------------------------------------------------------------------------------------------------------------------------------------------------------------------------------------------------------------------------------------------------------------------|\n",
    "| `'DR_NO'`        | Número de Registros: número oficial formado por ano (2 dígitos), ID da área e 5 dígitos. |                                                                                                                                                                                                                                                                                                                                                                                                                |\n",
    "| `'Date Rptd'`    | Data do registro - MM/DD/AAAA.                                                                                                                                                                                                                                                                                                                                                                                                                                                                                       |\n",
    "| `'DATE OCC'`     | Data da ocorrência - MM/DD/AAAA..                                                                                                                                                                                                                                                                                                                                                                                                                                                                                  |\n",
    "| `'TIME OCC'`     | Em horário militar de 24 horas.                                                                                                                                                                                                                                                                                                                                                                                                                                                                                         |\n",
    "| `'AREA NAME'`    | The 21 Geographic Areas or Patrol Divisions are also given a name designation that references a landmark or the surrounding community that it is responsible for. For example, the 77th Street Division is located at the intersection of South Broadway and 77th Street, serving neighborhoods in South Los Angeles.                                                                                                                                                                                             |\n",
    "| `'Crm Cd Desc'`  | Indicates the crime committed.                                                                                                                                                                                                                                                                                                                                                                                                                                                                                    |\n",
    "| `'Vict Age'`     | Victim's age in years.                                                                                                                                                                                                                                                                                                                                                                                                                                                                                            |\n",
    "| `'Vict Sex'`     | Victim's sex: `F`: Female, `M`: Male, `X`: Unknown.                                                                                                                                                                                                                                                                                                                                                                                                                                                               |\n",
    "| `'Vict Descent'` | Victim's descent:<ul><li>`A` - Other Asian</li><li>`B` - Black</li><li>`C` - Chinese</li><li>`D` - Cambodian</li><li>`F` - Filipino</li><li>`G` - Guamanian</li><li>`H` - Hispanic/Latin/Mexican</li><li>`I` - American Indian/Alaskan Native</li><li>`J` - Japanese</li><li>`K` - Korean</li><li>`L` - Laotian</li><li>`O` - Other</li><li>`P` - Pacific Islander</li><li>`S` - Samoan</li><li>`U` - Hawaiian</li><li>`V` - Vietnamese</li><li>`W` - White</li><li>`X` - Unknown</li><li>`Z` - Asian Indian</li> |\n",
    "| `'Weapon Desc'`  | Description of the weapon used (if applicable).                                                                                                                                                                                                                                                                                                                                                                                                                                                                   |\n",
    "| `'Status Desc'`  | Crime status.                                                                                                                                                                                                                                                                                                                                                                                                                                                                                                     |\n",
    "| `'LOCATION'`     | Street address of the crime.                                                                                                                                                                                                                                                                                                                                                                                                                                                                                      |"
   ]
  },
  {
   "cell_type": "code",
   "execution_count": 1,
   "id": "7c6c3c36-5c8b-4cce-8681-95292b8f0861",
   "metadata": {
    "ExecuteTime": {
     "end_time": "2025-08-21T03:37:37.397803Z",
     "start_time": "2025-08-21T03:37:37.345775Z"
    },
    "executionCancelledAt": null,
    "executionTime": 321,
    "lastExecutedAt": 1755743745539,
    "lastExecutedByKernel": "6c8f3ba1-b202-4da1-84e3-a3af38294413",
    "lastScheduledRunId": null,
    "lastSuccessfullyExecutedCode": "# Re-run this cell\n# Import required libraries\nimport pandas as pd\nimport numpy as np\nimport matplotlib.pyplot as plt\nimport seaborn as sns\ncrimes = pd.read_csv(\"crimes.csv\", dtype={\"TIME OCC\": str})\ncrimes.head()",
    "outputsMetadata": {
     "0": {
      "height": 550,
      "tableState": {
       "customFilter": {
        "const": {
         "type": "boolean",
         "valid": true,
         "value": true
        },
        "id": "43520cbf-d743-438b-8955-f276254c0a2a",
        "nodeType": "const"
       },
       "quickFilterText": ""
      },
      "type": "dataFrame"
     }
    }
   },
   "outputs": [
    {
     "data": {
      "text/html": [
       "<div>\n",
       "<style scoped>\n",
       "    .dataframe tbody tr th:only-of-type {\n",
       "        vertical-align: middle;\n",
       "    }\n",
       "\n",
       "    .dataframe tbody tr th {\n",
       "        vertical-align: top;\n",
       "    }\n",
       "\n",
       "    .dataframe thead th {\n",
       "        text-align: right;\n",
       "    }\n",
       "</style>\n",
       "<table border=\"1\" class=\"dataframe\">\n",
       "  <thead>\n",
       "    <tr style=\"text-align: right;\">\n",
       "      <th></th>\n",
       "      <th>DR_NO</th>\n",
       "      <th>Date Rptd</th>\n",
       "      <th>DATE OCC</th>\n",
       "      <th>TIME OCC</th>\n",
       "      <th>AREA NAME</th>\n",
       "      <th>Crm Cd Desc</th>\n",
       "      <th>Vict Age</th>\n",
       "      <th>Vict Sex</th>\n",
       "      <th>Vict Descent</th>\n",
       "      <th>Weapon Desc</th>\n",
       "      <th>Status Desc</th>\n",
       "      <th>LOCATION</th>\n",
       "    </tr>\n",
       "  </thead>\n",
       "  <tbody>\n",
       "    <tr>\n",
       "      <th>0</th>\n",
       "      <td>220314085</td>\n",
       "      <td>2022-07-22</td>\n",
       "      <td>2020-05-12</td>\n",
       "      <td>1110</td>\n",
       "      <td>Southwest</td>\n",
       "      <td>THEFT OF IDENTITY</td>\n",
       "      <td>27</td>\n",
       "      <td>F</td>\n",
       "      <td>B</td>\n",
       "      <td>NaN</td>\n",
       "      <td>Invest Cont</td>\n",
       "      <td>2500 S  SYCAMORE                     AV</td>\n",
       "    </tr>\n",
       "    <tr>\n",
       "      <th>1</th>\n",
       "      <td>222013040</td>\n",
       "      <td>2022-08-06</td>\n",
       "      <td>2020-06-04</td>\n",
       "      <td>1620</td>\n",
       "      <td>Olympic</td>\n",
       "      <td>THEFT OF IDENTITY</td>\n",
       "      <td>60</td>\n",
       "      <td>M</td>\n",
       "      <td>H</td>\n",
       "      <td>NaN</td>\n",
       "      <td>Invest Cont</td>\n",
       "      <td>3300    SAN MARINO                   ST</td>\n",
       "    </tr>\n",
       "    <tr>\n",
       "      <th>2</th>\n",
       "      <td>220614831</td>\n",
       "      <td>2022-08-18</td>\n",
       "      <td>2020-08-17</td>\n",
       "      <td>1200</td>\n",
       "      <td>Hollywood</td>\n",
       "      <td>THEFT OF IDENTITY</td>\n",
       "      <td>28</td>\n",
       "      <td>M</td>\n",
       "      <td>H</td>\n",
       "      <td>NaN</td>\n",
       "      <td>Invest Cont</td>\n",
       "      <td>1900    TRANSIENT</td>\n",
       "    </tr>\n",
       "    <tr>\n",
       "      <th>3</th>\n",
       "      <td>231207725</td>\n",
       "      <td>2023-02-27</td>\n",
       "      <td>2020-01-27</td>\n",
       "      <td>0635</td>\n",
       "      <td>77th Street</td>\n",
       "      <td>THEFT OF IDENTITY</td>\n",
       "      <td>37</td>\n",
       "      <td>M</td>\n",
       "      <td>H</td>\n",
       "      <td>NaN</td>\n",
       "      <td>Invest Cont</td>\n",
       "      <td>6200    4TH                          AV</td>\n",
       "    </tr>\n",
       "    <tr>\n",
       "      <th>4</th>\n",
       "      <td>220213256</td>\n",
       "      <td>2022-07-14</td>\n",
       "      <td>2020-07-14</td>\n",
       "      <td>0900</td>\n",
       "      <td>Rampart</td>\n",
       "      <td>THEFT OF IDENTITY</td>\n",
       "      <td>79</td>\n",
       "      <td>M</td>\n",
       "      <td>B</td>\n",
       "      <td>NaN</td>\n",
       "      <td>Invest Cont</td>\n",
       "      <td>1200 W  7TH                          ST</td>\n",
       "    </tr>\n",
       "  </tbody>\n",
       "</table>\n",
       "</div>"
      ],
      "text/plain": [
       "       DR_NO   Date Rptd    DATE OCC TIME OCC    AREA NAME        Crm Cd Desc  \\\n",
       "0  220314085  2022-07-22  2020-05-12     1110    Southwest  THEFT OF IDENTITY   \n",
       "1  222013040  2022-08-06  2020-06-04     1620      Olympic  THEFT OF IDENTITY   \n",
       "2  220614831  2022-08-18  2020-08-17     1200    Hollywood  THEFT OF IDENTITY   \n",
       "3  231207725  2023-02-27  2020-01-27     0635  77th Street  THEFT OF IDENTITY   \n",
       "4  220213256  2022-07-14  2020-07-14     0900      Rampart  THEFT OF IDENTITY   \n",
       "\n",
       "   Vict Age Vict Sex Vict Descent Weapon Desc  Status Desc  \\\n",
       "0        27        F            B         NaN  Invest Cont   \n",
       "1        60        M            H         NaN  Invest Cont   \n",
       "2        28        M            H         NaN  Invest Cont   \n",
       "3        37        M            H         NaN  Invest Cont   \n",
       "4        79        M            B         NaN  Invest Cont   \n",
       "\n",
       "                                  LOCATION  \n",
       "0  2500 S  SYCAMORE                     AV  \n",
       "1  3300    SAN MARINO                   ST  \n",
       "2                        1900    TRANSIENT  \n",
       "3  6200    4TH                          AV  \n",
       "4  1200 W  7TH                          ST  "
      ]
     },
     "execution_count": 1,
     "metadata": {},
     "output_type": "execute_result"
    }
   ],
   "source": [
    "# Re-run this cell\n",
    "# Import required libraries\n",
    "import pandas as pd\n",
    "import numpy as np\n",
    "import matplotlib.pyplot as plt\n",
    "import seaborn as sns\n",
    "crimes = pd.read_csv(\"crimes.csv\", dtype={\"TIME OCC\": str})\n",
    "crimes.head()"
   ]
  },
  {
   "cell_type": "code",
   "execution_count": 10,
   "id": "53eada96-447c-46c3-9848-f4ca3de53d06",
   "metadata": {
    "executionCancelledAt": null,
    "executionTime": 312,
    "lastExecutedAt": 1755743745851,
    "lastExecutedByKernel": "6c8f3ba1-b202-4da1-84e3-a3af38294413",
    "lastScheduledRunId": null,
    "lastSuccessfullyExecutedCode": "# Start coding here\n# Use as many cells as you need\n\n# read in and preview the dataset\ncrimes = pd.read_csv('crimes.csv', dtype= {'TIME OCC': str})\ncrimes.head()",
    "outputsMetadata": {
     "0": {
      "height": 550,
      "tableState": {
       "customFilter": {
        "const": {
         "type": "boolean",
         "valid": true,
         "value": true
        },
        "id": "43520cbf-d743-438b-8955-f276254c0a2a",
        "nodeType": "const"
       }
      },
      "type": "dataFrame"
     }
    }
   },
   "outputs": [
    {
     "data": {
      "text/html": [
       "<div>\n",
       "<style scoped>\n",
       "    .dataframe tbody tr th:only-of-type {\n",
       "        vertical-align: middle;\n",
       "    }\n",
       "\n",
       "    .dataframe tbody tr th {\n",
       "        vertical-align: top;\n",
       "    }\n",
       "\n",
       "    .dataframe thead th {\n",
       "        text-align: right;\n",
       "    }\n",
       "</style>\n",
       "<table border=\"1\" class=\"dataframe\">\n",
       "  <thead>\n",
       "    <tr style=\"text-align: right;\">\n",
       "      <th></th>\n",
       "      <th>DR_NO</th>\n",
       "      <th>Date Rptd</th>\n",
       "      <th>DATE OCC</th>\n",
       "      <th>TIME OCC</th>\n",
       "      <th>AREA NAME</th>\n",
       "      <th>Crm Cd Desc</th>\n",
       "      <th>Vict Age</th>\n",
       "      <th>Vict Sex</th>\n",
       "      <th>Vict Descent</th>\n",
       "      <th>Weapon Desc</th>\n",
       "      <th>Status Desc</th>\n",
       "      <th>LOCATION</th>\n",
       "    </tr>\n",
       "  </thead>\n",
       "  <tbody>\n",
       "    <tr>\n",
       "      <th>0</th>\n",
       "      <td>220314085</td>\n",
       "      <td>2022-07-22</td>\n",
       "      <td>2020-05-12</td>\n",
       "      <td>1110</td>\n",
       "      <td>Southwest</td>\n",
       "      <td>THEFT OF IDENTITY</td>\n",
       "      <td>27</td>\n",
       "      <td>F</td>\n",
       "      <td>B</td>\n",
       "      <td>NaN</td>\n",
       "      <td>Invest Cont</td>\n",
       "      <td>2500 S  SYCAMORE                     AV</td>\n",
       "    </tr>\n",
       "    <tr>\n",
       "      <th>1</th>\n",
       "      <td>222013040</td>\n",
       "      <td>2022-08-06</td>\n",
       "      <td>2020-06-04</td>\n",
       "      <td>1620</td>\n",
       "      <td>Olympic</td>\n",
       "      <td>THEFT OF IDENTITY</td>\n",
       "      <td>60</td>\n",
       "      <td>M</td>\n",
       "      <td>H</td>\n",
       "      <td>NaN</td>\n",
       "      <td>Invest Cont</td>\n",
       "      <td>3300    SAN MARINO                   ST</td>\n",
       "    </tr>\n",
       "    <tr>\n",
       "      <th>2</th>\n",
       "      <td>220614831</td>\n",
       "      <td>2022-08-18</td>\n",
       "      <td>2020-08-17</td>\n",
       "      <td>1200</td>\n",
       "      <td>Hollywood</td>\n",
       "      <td>THEFT OF IDENTITY</td>\n",
       "      <td>28</td>\n",
       "      <td>M</td>\n",
       "      <td>H</td>\n",
       "      <td>NaN</td>\n",
       "      <td>Invest Cont</td>\n",
       "      <td>1900    TRANSIENT</td>\n",
       "    </tr>\n",
       "    <tr>\n",
       "      <th>3</th>\n",
       "      <td>231207725</td>\n",
       "      <td>2023-02-27</td>\n",
       "      <td>2020-01-27</td>\n",
       "      <td>0635</td>\n",
       "      <td>77th Street</td>\n",
       "      <td>THEFT OF IDENTITY</td>\n",
       "      <td>37</td>\n",
       "      <td>M</td>\n",
       "      <td>H</td>\n",
       "      <td>NaN</td>\n",
       "      <td>Invest Cont</td>\n",
       "      <td>6200    4TH                          AV</td>\n",
       "    </tr>\n",
       "    <tr>\n",
       "      <th>4</th>\n",
       "      <td>220213256</td>\n",
       "      <td>2022-07-14</td>\n",
       "      <td>2020-07-14</td>\n",
       "      <td>0900</td>\n",
       "      <td>Rampart</td>\n",
       "      <td>THEFT OF IDENTITY</td>\n",
       "      <td>79</td>\n",
       "      <td>M</td>\n",
       "      <td>B</td>\n",
       "      <td>NaN</td>\n",
       "      <td>Invest Cont</td>\n",
       "      <td>1200 W  7TH                          ST</td>\n",
       "    </tr>\n",
       "  </tbody>\n",
       "</table>\n",
       "</div>"
      ],
      "text/plain": [
       "       DR_NO   Date Rptd    DATE OCC TIME OCC    AREA NAME        Crm Cd Desc  \\\n",
       "0  220314085  2022-07-22  2020-05-12     1110    Southwest  THEFT OF IDENTITY   \n",
       "1  222013040  2022-08-06  2020-06-04     1620      Olympic  THEFT OF IDENTITY   \n",
       "2  220614831  2022-08-18  2020-08-17     1200    Hollywood  THEFT OF IDENTITY   \n",
       "3  231207725  2023-02-27  2020-01-27     0635  77th Street  THEFT OF IDENTITY   \n",
       "4  220213256  2022-07-14  2020-07-14     0900      Rampart  THEFT OF IDENTITY   \n",
       "\n",
       "   Vict Age Vict Sex Vict Descent Weapon Desc  Status Desc  \\\n",
       "0        27        F            B         NaN  Invest Cont   \n",
       "1        60        M            H         NaN  Invest Cont   \n",
       "2        28        M            H         NaN  Invest Cont   \n",
       "3        37        M            H         NaN  Invest Cont   \n",
       "4        79        M            B         NaN  Invest Cont   \n",
       "\n",
       "                                  LOCATION  \n",
       "0  2500 S  SYCAMORE                     AV  \n",
       "1  3300    SAN MARINO                   ST  \n",
       "2                        1900    TRANSIENT  \n",
       "3  6200    4TH                          AV  \n",
       "4  1200 W  7TH                          ST  "
      ]
     },
     "execution_count": 10,
     "metadata": {},
     "output_type": "execute_result"
    }
   ],
   "source": [
    "#  preview do dataset\n",
    "crimes = pd.read_csv('crimes.csv', dtype= {'TIME OCC': str})\n",
    "crimes.head()"
   ]
  },
  {
   "cell_type": "code",
   "execution_count": 3,
   "id": "47699997-deb9-450a-846b-dce1bad02849",
   "metadata": {
    "executionCancelledAt": null,
    "executionTime": 93,
    "lastExecutedAt": 1755743745944,
    "lastExecutedByKernel": "6c8f3ba1-b202-4da1-84e3-a3af38294413",
    "lastScheduledRunId": null,
    "lastSuccessfullyExecutedCode": "# which hour has the highest frequency of crimes? store as an integer variable called peak_crime_hour\n\n# extraindo os dois primeiros digitos de 'TIME OCC'representing the hour,\n# and convert to integer data type\n\ncrimes ['HOUR OCC'] = crimes ['TIME OCC'].str[:2].astype(int)\n\n# visualizando o DF para ver se a nova coluna está correta\ncrimes.head()",
    "outputsMetadata": {
     "0": {
      "height": 550,
      "tableState": {},
      "type": "dataFrame"
     }
    }
   },
   "outputs": [
    {
     "data": {
      "text/html": [
       "<div>\n",
       "<style scoped>\n",
       "    .dataframe tbody tr th:only-of-type {\n",
       "        vertical-align: middle;\n",
       "    }\n",
       "\n",
       "    .dataframe tbody tr th {\n",
       "        vertical-align: top;\n",
       "    }\n",
       "\n",
       "    .dataframe thead th {\n",
       "        text-align: right;\n",
       "    }\n",
       "</style>\n",
       "<table border=\"1\" class=\"dataframe\">\n",
       "  <thead>\n",
       "    <tr style=\"text-align: right;\">\n",
       "      <th></th>\n",
       "      <th>DR_NO</th>\n",
       "      <th>Date Rptd</th>\n",
       "      <th>DATE OCC</th>\n",
       "      <th>TIME OCC</th>\n",
       "      <th>AREA NAME</th>\n",
       "      <th>Crm Cd Desc</th>\n",
       "      <th>Vict Age</th>\n",
       "      <th>Vict Sex</th>\n",
       "      <th>Vict Descent</th>\n",
       "      <th>Weapon Desc</th>\n",
       "      <th>Status Desc</th>\n",
       "      <th>LOCATION</th>\n",
       "      <th>HOUR OCC</th>\n",
       "    </tr>\n",
       "  </thead>\n",
       "  <tbody>\n",
       "    <tr>\n",
       "      <th>0</th>\n",
       "      <td>220314085</td>\n",
       "      <td>2022-07-22</td>\n",
       "      <td>2020-05-12</td>\n",
       "      <td>1110</td>\n",
       "      <td>Southwest</td>\n",
       "      <td>THEFT OF IDENTITY</td>\n",
       "      <td>27</td>\n",
       "      <td>F</td>\n",
       "      <td>B</td>\n",
       "      <td>NaN</td>\n",
       "      <td>Invest Cont</td>\n",
       "      <td>2500 S  SYCAMORE                     AV</td>\n",
       "      <td>11</td>\n",
       "    </tr>\n",
       "    <tr>\n",
       "      <th>1</th>\n",
       "      <td>222013040</td>\n",
       "      <td>2022-08-06</td>\n",
       "      <td>2020-06-04</td>\n",
       "      <td>1620</td>\n",
       "      <td>Olympic</td>\n",
       "      <td>THEFT OF IDENTITY</td>\n",
       "      <td>60</td>\n",
       "      <td>M</td>\n",
       "      <td>H</td>\n",
       "      <td>NaN</td>\n",
       "      <td>Invest Cont</td>\n",
       "      <td>3300    SAN MARINO                   ST</td>\n",
       "      <td>16</td>\n",
       "    </tr>\n",
       "    <tr>\n",
       "      <th>2</th>\n",
       "      <td>220614831</td>\n",
       "      <td>2022-08-18</td>\n",
       "      <td>2020-08-17</td>\n",
       "      <td>1200</td>\n",
       "      <td>Hollywood</td>\n",
       "      <td>THEFT OF IDENTITY</td>\n",
       "      <td>28</td>\n",
       "      <td>M</td>\n",
       "      <td>H</td>\n",
       "      <td>NaN</td>\n",
       "      <td>Invest Cont</td>\n",
       "      <td>1900    TRANSIENT</td>\n",
       "      <td>12</td>\n",
       "    </tr>\n",
       "    <tr>\n",
       "      <th>3</th>\n",
       "      <td>231207725</td>\n",
       "      <td>2023-02-27</td>\n",
       "      <td>2020-01-27</td>\n",
       "      <td>0635</td>\n",
       "      <td>77th Street</td>\n",
       "      <td>THEFT OF IDENTITY</td>\n",
       "      <td>37</td>\n",
       "      <td>M</td>\n",
       "      <td>H</td>\n",
       "      <td>NaN</td>\n",
       "      <td>Invest Cont</td>\n",
       "      <td>6200    4TH                          AV</td>\n",
       "      <td>6</td>\n",
       "    </tr>\n",
       "    <tr>\n",
       "      <th>4</th>\n",
       "      <td>220213256</td>\n",
       "      <td>2022-07-14</td>\n",
       "      <td>2020-07-14</td>\n",
       "      <td>0900</td>\n",
       "      <td>Rampart</td>\n",
       "      <td>THEFT OF IDENTITY</td>\n",
       "      <td>79</td>\n",
       "      <td>M</td>\n",
       "      <td>B</td>\n",
       "      <td>NaN</td>\n",
       "      <td>Invest Cont</td>\n",
       "      <td>1200 W  7TH                          ST</td>\n",
       "      <td>9</td>\n",
       "    </tr>\n",
       "  </tbody>\n",
       "</table>\n",
       "</div>"
      ],
      "text/plain": [
       "       DR_NO   Date Rptd    DATE OCC TIME OCC    AREA NAME        Crm Cd Desc  \\\n",
       "0  220314085  2022-07-22  2020-05-12     1110    Southwest  THEFT OF IDENTITY   \n",
       "1  222013040  2022-08-06  2020-06-04     1620      Olympic  THEFT OF IDENTITY   \n",
       "2  220614831  2022-08-18  2020-08-17     1200    Hollywood  THEFT OF IDENTITY   \n",
       "3  231207725  2023-02-27  2020-01-27     0635  77th Street  THEFT OF IDENTITY   \n",
       "4  220213256  2022-07-14  2020-07-14     0900      Rampart  THEFT OF IDENTITY   \n",
       "\n",
       "   Vict Age Vict Sex Vict Descent Weapon Desc  Status Desc  \\\n",
       "0        27        F            B         NaN  Invest Cont   \n",
       "1        60        M            H         NaN  Invest Cont   \n",
       "2        28        M            H         NaN  Invest Cont   \n",
       "3        37        M            H         NaN  Invest Cont   \n",
       "4        79        M            B         NaN  Invest Cont   \n",
       "\n",
       "                                  LOCATION  HOUR OCC  \n",
       "0  2500 S  SYCAMORE                     AV        11  \n",
       "1  3300    SAN MARINO                   ST        16  \n",
       "2                        1900    TRANSIENT        12  \n",
       "3  6200    4TH                          AV         6  \n",
       "4  1200 W  7TH                          ST         9  "
      ]
     },
     "execution_count": 3,
     "metadata": {},
     "output_type": "execute_result"
    }
   ],
   "source": [
    "# Qual horário tem a maior frequência de crimes? vamos armazenar em uma variável chamada peak_crime_hour\n",
    "\n",
    "# Extraindo os dois primeiros dígitos de 'TIME OCC' representando a hora,\n",
    "# E convertendo para o tipo inteiro\n",
    "\n",
    "crimes ['HOUR OCC'] = crimes ['TIME OCC'].str[:2].astype(int)\n",
    "\n",
    "# visualizando o DF para ver se a nova coluna está correta\n",
    "crimes.head()"
   ]
  },
  {
   "cell_type": "code",
   "execution_count": 4,
   "id": "de298c1f-c641-4e6a-9850-c74cfaefcda9",
   "metadata": {
    "executionCancelledAt": null,
    "executionTime": 522,
    "lastExecutedAt": 1755743746466,
    "lastExecutedByKernel": "6c8f3ba1-b202-4da1-84e3-a3af38294413",
    "lastScheduledRunId": null,
    "lastSuccessfullyExecutedCode": "sns.countplot(data=crimes, x = 'HOUR OCC')\nplt.show()"
   },
   "outputs": [
    {
     "data": {
      "image/png": "[encoded data removed]",
      "text/plain": [
       "<Figure size 640x480 with 1 Axes>"
      ]
     },
     "metadata": {},
     "output_type": "display_data"
    }
   ],
   "source": [
    "sns.countplot(data=crimes, x = 'HOUR OCC')\n",
    "plt.show()"
   ]
  },
  {
   "cell_type": "code",
   "execution_count": 5,
   "id": "21710f54-9c60-47ed-bf7f-a74480405dd7",
   "metadata": {
    "executionCancelledAt": null,
    "executionTime": 52,
    "lastExecutedAt": 1755743746518,
    "lastExecutedByKernel": "6c8f3ba1-b202-4da1-84e3-a3af38294413",
    "lastScheduledRunId": null,
    "lastSuccessfullyExecutedCode": "# Ao meio dia temos o maior volume de crimes\n\npeak_crime_hour = 12"
   },
   "outputs": [],
   "source": [
    "# Ao meio dia temos o maior volume de crimes\n",
    "\n",
    "peak_crime_hour = 12"
   ]
  },
  {
   "cell_type": "code",
   "execution_count": 6,
   "id": "f43800b6-b99c-4b12-8067-8e9e852aab25",
   "metadata": {
    "executionCancelledAt": null,
    "executionTime": 51,
    "lastExecutedAt": 1755743746570,
    "lastExecutedByKernel": "6c8f3ba1-b202-4da1-84e3-a3af38294413",
    "lastScheduledRunId": null,
    "lastSuccessfullyExecutedCode": "night_time = crimes[crimes['HOUR OCC'].isin([22,23,0,1,2,3])]"
   },
   "outputs": [],
   "source": [
    "night_time = crimes[crimes['HOUR OCC'].isin([22,23,0,1,2,3])]"
   ]
  },
  {
   "cell_type": "code",
   "execution_count": 7,
   "id": "53577893-1cb7-4095-9ea1-ff42624d817e",
   "metadata": {
    "executionCancelledAt": null,
    "executionTime": 56,
    "lastExecutedAt": 1755743746627,
    "lastExecutedByKernel": "6c8f3ba1-b202-4da1-84e3-a3af38294413",
    "lastScheduledRunId": null,
    "lastSuccessfullyExecutedCode": "peak_night_crime_location = night_time.groupby('AREA NAME',\n                                              as_index = False)['HOUR OCC'].count().sort_values('HOUR OCC',\n                          ascending = False).iloc[0]['AREA NAME']\n\n# Print the peak night crime location\nprint(f\"The area with the largest volume of night crime is {peak_night_crime_location}\")",
    "outputsMetadata": {
     "0": {
      "height": 38,
      "type": "stream"
     }
    }
   },
   "outputs": [
    {
     "name": "stdout",
     "output_type": "stream",
     "text": [
      "The area with the largest volume of night crime is Central\n"
     ]
    }
   ],
   "source": [
    "peak_night_crime_location = night_time.groupby('AREA NAME',\n",
    "                                              as_index = False)['HOUR OCC'].count().sort_values('HOUR OCC',\n",
    "                          ascending = False).iloc[0]['AREA NAME']\n",
    "\n",
    "# localização de pico dos crimes noturnos\n",
    "print(f\"The area with the largest volume of night crime is {peak_night_crime_location}\")"
   ]
  },
  {
   "cell_type": "code",
   "execution_count": 8,
   "id": "70d8e481-8046-4fdf-a004-6e33eeb28c1e",
   "metadata": {
    "executionCancelledAt": null,
    "executionTime": 55,
    "lastExecutedAt": 1755743746682,
    "lastExecutedByKernel": "6c8f3ba1-b202-4da1-84e3-a3af38294413",
    "lastScheduledRunId": null,
    "lastSuccessfullyExecutedCode": "age_bins = [0, 17, 25, 34, 44, 54, 64, np.inf]\nage_labels = [\"0-17\", \"18-25\", \"26-34\", \"35-44\", \"45-54\", \"55-64\", \"65+\"]"
   },
   "outputs": [],
   "source": [
    "age_bins = [0, 17, 25, 34, 44, 54, 64, np.inf]\n",
    "age_labels = [\"0-17\", \"18-25\", \"26-34\", \"35-44\", \"45-54\", \"55-64\", \"65+\"]"
   ]
  },
  {
   "cell_type": "code",
   "execution_count": 9,
   "id": "2a96a57a-1b69-448c-a3f3-b6719e841262",
   "metadata": {
    "executionCancelledAt": null,
    "executionTime": 55,
    "lastExecutedAt": 1755743746739,
    "lastExecutedByKernel": "6c8f3ba1-b202-4da1-84e3-a3af38294413",
    "lastScheduledRunId": null,
    "lastSuccessfullyExecutedCode": "# Add a new column using pd.cut() to bin values into discrete intervals\ncrimes[\"Age Bracket\"] = pd.cut(crimes[\"Vict Age\"],\n                               bins=age_bins,\n                               labels=age_labels)\n\n# Find the category with the largest frequency\nvictim_ages = crimes[\"Age Bracket\"].value_counts()\nprint(victim_ages)",
    "outputsMetadata": {
     "0": {
      "height": 185,
      "type": "stream"
     }
    }
   },
   "outputs": [
    {
     "name": "stdout",
     "output_type": "stream",
     "text": [
      "Age Bracket\n",
      "26-34    47470\n",
      "35-44    42157\n",
      "45-54    28353\n",
      "18-25    28291\n",
      "55-64    20169\n",
      "65+      14747\n",
      "0-17      4528\n",
      "Name: count, dtype: int64\n"
     ]
    }
   ],
   "source": [
    "# Adicionando uma nova coluna usando pd.cut() para agrupar valores em intervalos \n",
    "crimes[\"Age Bracket\"] = pd.cut(crimes[\"Vict Age\"],\n",
    "                               bins=age_bins,\n",
    "                               labels=age_labels)\n",
    "\n",
    "# Encontrando a categoria com maior frequência\n",
    "victim_ages = crimes[\"Age Bracket\"].value_counts()\n",
    "print(victim_ages)"
   ]
  },
  {
   "cell_type": "code",
   "execution_count": null,
   "id": "fd0a02dd-5c6d-4c3f-ade6-a13e33e22a33",
   "metadata": {},
   "outputs": [],
   "source": []
  }
 ],
 "metadata": {
  "colab": {
   "name": "Welcome to DataCamp Workspaces.ipynb",
   "provenance": []
  },
  "kernelspec": {
   "display_name": "Python 3 (ipykernel)",
   "language": "python",
   "name": "python3"
  },
  "language_info": {
   "codemirror_mode": {
    "name": "ipython",
    "version": 3
   },
   "file_extension": ".py",
   "mimetype": "text/x-python",
   "name": "python",
   "nbconvert_exporter": "python",
   "pygments_lexer": "ipython3",
   "version": "3.13.5"
  }
 },
 "nbformat": 4,
 "nbformat_minor": 5
}
